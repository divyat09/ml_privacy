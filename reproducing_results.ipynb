{
 "cells": [
  {
   "cell_type": "markdown",
   "metadata": {},
   "source": [
    "# Reproduction results\n",
    "\n",
    "\n",
    "The following code reproduces results for Rotated MNIST and Fashion-MNIST dataset, and Chest X-Ray corresponding to Figure 1, Table 4, Table 5 in the paper.\n",
    "\n",
    "\n",
    "## Rotated MNIST\n",
    "\n",
    "For convenience, we provide the exact commands for Rotated MNIST dataset with training domains set to [15, 30, 45, 60, 75] and the test domains set to [0, 90]. \n",
    "\n",
    "To obtain results for the FashionMNIST dataset, change the dataset parameter `--dataset` from `rot_mnist` to `fashion_mnist`.\n",
    "\n",
    "#### Prepare Data\n",
    "\n",
    "From the directory `data`, run the following command: python data_gen.py resnet18\n",
    "\n",
    "\n",
    "## Chest X-ray\n",
    "\n",
    "Please perform the following step before running the code\n",
    "\n",
    "    -Follow the steps in the Preprocess.ipynb notebook to download and process the Chest X-Ray datasets\n",
    "    -Then follow the steps in the ChestXRay_Translate.ipynb notebook to perform image translations"
   ]
  },
  {
   "cell_type": "markdown",
   "metadata": {},
   "source": [
    "## Installing Libraries\n",
    "\n",
    "Move back to the root directory.\n",
    "\n",
    "List of all the required packages are mentioned in the file 'requirements.txt'\n",
    "\n",
    "You may install them as follows: pip install -r requirements.txt"
   ]
  },
  {
   "cell_type": "markdown",
   "metadata": {},
   "source": [
    "# Figure 1 & Table 4\n",
    "\n",
    "# Rotated MNIST: "
   ]
  },
  {
   "cell_type": "markdown",
   "metadata": {},
   "source": [
    "\n",
    "## OOD Accuracy"
   ]
  },
  {
   "cell_type": "markdown",
   "metadata": {},
   "source": [
    "### ERM\n",
    "python train.py --dataset rot_mnist --method_name erm_match --match_case 0.01 --penalty_ws 0.0 --epochs 25\n",
    "\n",
    "### RandomMatch\n",
    "python train.py --dataset rot_mnist --method_name erm_match --match_case 0.01 --penalty_ws 0.1 --epochs 25\n",
    "\n",
    "### MatchDG\n",
    "python train.py --dataset rot_mnist --method_name matchdg_ctr --match_case 0.01 --match_flag 1 --epochs 100 --batch_size 256 --pos_metric cos\n",
    "\n",
    "python train.py --dataset rot_mnist --method_name matchdg_erm --match_case -1 --penalty_ws 0.1 --epochs 25 --ctr_match_case 0.01 --ctr_match_flag 1 --ctr_match_interrupt 5 --ctr_model_name resnet18\n",
    "\n",
    "### CSD\n",
    "python train.py --dataset rot_mnist --method_name csd --match_case 0.01 --penalty_ws 0.0 --rep_dim 512 --epochs 25\n",
    "\n",
    "### IRM\n",
    "python train.py --dataset rot_mnist --method_name irm --match_case 0.01 --penalty_irm 1.0 --penalty_s 5 --epochs 25\n",
    "\n",
    "### Perfect Match\n",
    "python train.py --dataset rot_mnist --method_name erm_match --match_case 1.0 --penalty_ws 0.1 --epochs 25"
   ]
  },
  {
   "cell_type": "markdown",
   "metadata": {},
   "source": [
    "## Privacy Attacks and Mean Rank\n",
    "\n",
    "Run the following command to generate results for the privacy attacks and mean rank.\n",
    "The results will be stored in the results/rot_mnist/ directory "
   ]
  },
  {
   "cell_type": "markdown",
   "metadata": {},
   "source": [
    "### Classifier Attack\n",
    "python3 metric_eval.py rot_mnist privacy_classifier\n",
    "\n",
    "### Entropy Attack\n",
    "python3 metric_eval.py rot_mnist privacy_entropy\n",
    "\n",
    "### Loss Attack\n",
    "python3 metric_eval.py rot_mnist privacy_loss_attack\n",
    "\n",
    "### Attribute Attack\n",
    "python3 metric_eval.py rot_mnist attribute_attack test\n",
    "\n",
    "### Mean Rank\n",
    "python3 metric_eval.py rot_mnist match_score test"
   ]
  },
  {
   "cell_type": "markdown",
   "metadata": {},
   "source": [
    "# Chest X-Ray\n",
    "\n",
    "    -Follow the steps in the Preprocess.ipynb notebook to donwload and process the Chest X-Ray datasets\n",
    "    -Then follow the steps in the ChestXRay_Translate.ipynb notebook to perform image translations"
   ]
  },
  {
   "cell_type": "markdown",
   "metadata": {},
   "source": [
    "## OOD Accuracy"
   ]
  },
  {
   "cell_type": "markdown",
   "metadata": {},
   "source": [
    "### ERM\n",
    "python train.py --dataset chestxray --method_name erm_match --match_case 0.01 --train_domains nih_trans chex_trans  --test_domains kaggle_trans  --out_classes 2 --perfect_match 0 --img_c 3 --pre_trained 1 --epochs 40  --lr 0.001 --batch_size 16 --penalty_ws 0.0 --model_name densenet121\n",
    "\n",
    "### RandomMatch\n",
    "python train.py --dataset chestxray --method_name erm_match --match_case 0.01 --train_domains nih_trans chex_trans  --test_domains kaggle_trans  --out_classes 2 --perfect_match 0 --img_c 3 --pre_trained 1 --epochs 40  --lr 0.001 --batch_size 16 --penalty_ws 10.0 --model_name densenet121\n",
    "\n",
    "\n",
    "### MatchDG\n",
    "python train.py --dataset chestxray --method_name matchdg_ctr --match_case 0.01 --match_flag 1 --epochs 100 --batch_size 64 --pos_metric cos --train_domains nih_trans chex_trans --test_domains kaggle_trans --out_classes 2 --perfect_match 0 --img_c 3 --pre_trained 1 --model_name densenet121\n",
    "\n",
    "python train.py --dataset chestxray --method_name matchdg_erm  --match_case -1 --ctr_match_case 0.01 --ctr_match_flag 1 --ctr_match_interrupt 5 --ctr_model_name densenet121 --model_name densenet121 --train_domains nih_trans kaggle_trans --test_domains chex_trans --out_classes 2 --perfect_match 0 --img_c 3 --pre_trained 1 --epochs 40  --lr 0.001 --batch_size 16 --weight_decay 0.0005 --penalty_ws 50.0 --model_name densenet12\n",
    "\n",
    "\n",
    "### CSD\n",
    "python train.py --dataset chestxray --method_name csd --match_case 0.01 --train_domains nih_trans chex_trans  --test_domains kaggle_trans  --out_classes 2 --perfect_match 0 --img_c 3 --pre_trained 1 --epochs 40  --lr 0.001 --batch_size 16 --penalty_ws 0.0 --model_name densenet121 --rep_dim 1024\n",
    "\n",
    "### IRM\n",
    "python train.py --dataset chestxray --method_name irm --match_case 0.01 --train_domains nih_trans chex_trans  --test_domains kaggle_trans  --out_classes 2 --perfect_match 0 --img_c 3 --pre_trained 1 --epochs 40  --lr 0.001 --batch_size 16 --penalty_ws 10.0 --penalty_s 5 --model_name densenet121\n",
    "\n",
    "### MDGHybrid\n",
    "python train.py --dataset chestxray --method_name hybrid  --match_case -1 --ctr_match_case 0.01 --ctr_match_flag 1 --ctr_match_interrupt 5 --ctr_model_name densenet121 --model_name densenet121 --train_domains nih_trans kaggle_trans --test_domains chex_trans --out_classes 2 --perfect_match 0 --img_c 3 --pre_trained 1 --epochs 40  --lr 0.001 --batch_size 16 --weight_decay 0.0005 --penalty_ws 1.0 --penalty_aug 50.0 --model_name densenet121"
   ]
  },
  {
   "cell_type": "markdown",
   "metadata": {},
   "source": [
    "## Privacy Attacks and Mean Rank\n",
    "\n",
    "Run the following command to generate results for the privacy attacks and mean rank.\n",
    "The results will be stored in the results/rot_mnist/ directory "
   ]
  },
  {
   "cell_type": "markdown",
   "metadata": {},
   "source": [
    "### Classifier Attack\n",
    "python3 metric_eval_chest.py privacy_classifier\n",
    "\n",
    "### Entropy Attack\n",
    "python3 metric_eval_chest.py privacy_entropy\n",
    "\n",
    "### Loss Attack\n",
    "python3 metric_eval_chest.py privacy_loss_attack\n",
    "\n",
    "### Attribute Attack\n",
    "python3 metric_eval_chest.py attribute_attack\n",
    "\n",
    "### Mean Rank\n",
    "python3 metric_eval_chest.py match_score"
   ]
  }
 ],
 "metadata": {
  "kernelspec": {
   "display_name": "Python 3",
   "language": "python",
   "name": "python3"
  },
  "language_info": {
   "codemirror_mode": {
    "name": "ipython",
    "version": 3
   },
   "file_extension": ".py",
   "mimetype": "text/x-python",
   "name": "python",
   "nbconvert_exporter": "python",
   "pygments_lexer": "ipython3",
   "version": "3.7.7"
  }
 },
 "nbformat": 4,
 "nbformat_minor": 4
}
